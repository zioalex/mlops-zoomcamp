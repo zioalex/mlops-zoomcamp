{
 "cells": [
  {
   "cell_type": "markdown",
   "metadata": {},
   "source": [
    "port 4200 Udp/tcp for Prefect\n",
    "\n",
    "# Download the needed files from:\n",
    "    https://www1.nyc.gov/site/tlc/about/tlc-trip-record-data.page\n",
    "\n",
    "\n",
    "# PreReq\n",
    "## Start MLFLOW\n",
    "    cd ~/github/mlops-zoomcamp/02-experiment-tracking\n",
    "    mlflow ui --backend-store-uri sqlite:///mlflow.db --serve-artifacts --artifacts-destination ./artifacts\n",
    "## Install prefect\n",
    "    pip install prefect==2.0b5\n",
    "\n",
    "## Set dir from previous exercise\n",
    "    ln -s ../02-experiment-tracking/data/\n",
    "    ln -s ../02-experiment-tracking/models/ .\n",
    "    ln -s ../02-experiment-tracking/mlflow.db\n",
    "    ln -s ../02-experiment-tracking/mlruns/ .\n",
    "    \n",
    "## Start the server config\n",
    "    cd 03-orchestration/\n",
    "    prefect config set PREFECT_ORION_UI_API_URL=\"http://localhost:4200/api\"\n",
    "    prefect orion start --host 0.0.0.0\n",
    "\n",
    "## On client side\n",
    "    prefect config set PREFECT_API_URL=\"http://localhost:4200/api\"\n",
    "    prefect config view\n",
    "\n",
    "If PREFECT_API URL config is not set correctly: \n",
    "    prefect config unset PREFECT_API_URL     \n",
    "    prefect config set PREFECT_API_URL=\"http://localhost:4200/api\"\n",
    "    prefect config view\n",
    "    prefect storage ls\n",
    "\n",
    "## Set the storage\n",
    "Select the local storage for the test purpose\n",
    "    prefect storage create\n",
    "    prefect storage ls\n",
    "\n",
    "## Start a simple flow\n",
    "    python prefect_flow.py\n",
    "\n",
    "# Create the deployment\n",
    "    prefect  deployment create prefect_deploy.py \n",
    "\n",
    "# Create the Work queue on the GUI\n",
    "\n",
    "# Start the work queue\n",
    "prefect work-queue preview ba5b0352-75f6-4e91-8781-e6f093b69f46\n",
    "prefect agent start ba5b0352-75f6-4e91-8781-e6f093b69f46"
   ]
  }
 ],
 "metadata": {
  "interpreter": {
   "hash": "fa96c1ee0c16e1dbb395e81749f4db7bf4c4723a8330d83dc333106b7f8fee37"
  },
  "kernelspec": {
   "display_name": "Python 3.9.12 ('base')",
   "language": "python",
   "name": "python3"
  },
  "language_info": {
   "name": "python",
   "version": "3.9.12"
  },
  "orig_nbformat": 4
 },
 "nbformat": 4,
 "nbformat_minor": 2
}
