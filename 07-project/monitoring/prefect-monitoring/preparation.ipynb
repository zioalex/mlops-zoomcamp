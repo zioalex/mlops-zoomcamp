{
 "cells": [
  {
   "cell_type": "code",
   "execution_count": 7,
   "metadata": {},
   "outputs": [
    {
     "name": "stdout",
     "output_type": "stream",
     "text": [
      "cleaned_data_set.parquet  RUStoWorldTrade_2011.pkl  RUStoWorldTrade_2018.pkl\n",
      "iso3.csv\t\t  RUStoWorldTrade_2012.pkl  RUStoWorldTrade_2019.pkl\n",
      "partnerAreas.csv\t  RUStoWorldTrade_2013.pkl  RUStoWorldTrade_2020.pkl\n",
      "RUStoWorldTrade_2007.pkl  RUStoWorldTrade_2014.pkl  RUStoWorldTrade.csv\n",
      "RUStoWorldTrade_2008.pkl  RUStoWorldTrade_2015.pkl  train_df.parquet\n",
      "RUStoWorldTrade_2009.pkl  RUStoWorldTrade_2016.pkl  valid_df.parquet\n",
      "RUStoWorldTrade_2010.pkl  RUStoWorldTrade_2017.pkl\n"
     ]
    }
   ],
   "source": [
    "!ls data\n"
   ]
  },
  {
   "cell_type": "code",
   "execution_count": 2,
   "metadata": {},
   "outputs": [],
   "source": [
    "import json\n",
    "import uuid\n",
    "from datetime import datetime\n",
    "\n",
    "import requests\n",
    "import pyarrow.parquet as pq"
   ]
  },
  {
   "cell_type": "code",
   "execution_count": 52,
   "metadata": {},
   "outputs": [],
   "source": [
    "table = (\n",
    "  pq.read_table(\"./data/cleaned_data_set.parquet\")\n",
    "  .to_pandas()\n",
    "  .sample(n=5000, random_state=42 )\n",
    "  )\n",
    "\n",
    "data = table[['Partner ISO', 'Commodity Code', 'Year', 'Trade Value (US$)']]"
   ]
  },
  {
   "cell_type": "markdown",
   "metadata": {},
   "source": []
  },
  {
   "cell_type": "code",
   "execution_count": 53,
   "metadata": {},
   "outputs": [
    {
     "name": "stderr",
     "output_type": "stream",
     "text": [
      "/tmp/ipykernel_79801/108571687.py:1: SettingWithCopyWarning: \n",
      "A value is trying to be set on a copy of a slice from a DataFrame\n",
      "\n",
      "See the caveats in the documentation: https://pandas.pydata.org/pandas-docs/stable/user_guide/indexing.html#returning-a-view-versus-a-copy\n",
      "  data.rename(columns={'Trade Value (US$)': 'target'}, inplace=True)\n"
     ]
    }
   ],
   "source": [
    "data.rename(columns={'Trade Value (US$)': 'target'}, inplace=True)"
   ]
  },
  {
   "cell_type": "code",
   "execution_count": null,
   "metadata": {},
   "outputs": [],
   "source": [
    "data"
   ]
  },
  {
   "cell_type": "code",
   "execution_count": 22,
   "metadata": {},
   "outputs": [],
   "source": [
    "df = pq.read_table(\"./data/cleaned_data_set.parquet\").to_pandas()"
   ]
  },
  {
   "cell_type": "code",
   "execution_count": 28,
   "metadata": {},
   "outputs": [],
   "source": [
    "# Prepara Dataset for prefect monitoring\n",
    "df = df[df['Year'] == 2020]\n",
    "df.to_parquet(\"./data/cleaned_data_set_2020.parquet\")"
   ]
  },
  {
   "cell_type": "code",
   "execution_count": null,
   "metadata": {},
   "outputs": [],
   "source": [
    "df"
   ]
  },
  {
   "cell_type": "code",
   "execution_count": null,
   "metadata": {},
   "outputs": [],
   "source": [
    "with open(\"./target.csv\") as f_target:\n",
    "  for line in f_target.readlines():\n",
    "      row = line.strip('\\n()').split(\",\")\n",
    "      print(row)\n",
    "      print({\"id\": row[0]}, {\"$set\": {\"target\": float(row[1])}})\n"
   ]
  },
  {
   "cell_type": "code",
   "execution_count": null,
   "metadata": {},
   "outputs": [],
   "source": []
  }
 ],
 "metadata": {
  "kernelspec": {
   "display_name": "Python 3.9.12 ('07-project-bZg0EPfU')",
   "language": "python",
   "name": "python3"
  },
  "language_info": {
   "codemirror_mode": {
    "name": "ipython",
    "version": 3
   },
   "file_extension": ".py",
   "mimetype": "text/x-python",
   "name": "python",
   "nbconvert_exporter": "python",
   "pygments_lexer": "ipython3",
   "version": "3.9.12"
  },
  "orig_nbformat": 4,
  "vscode": {
   "interpreter": {
    "hash": "b4b87695ce6f00b055f76d738af41299a2c260d574216c0defb51fbf168045db"
   }
  }
 },
 "nbformat": 4,
 "nbformat_minor": 2
}
