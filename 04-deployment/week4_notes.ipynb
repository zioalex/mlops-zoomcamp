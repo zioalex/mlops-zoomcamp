{
 "cells": [
  {
   "cell_type": "markdown",
   "metadata": {},
   "source": [
    "#Model deployment\n",
    "\n",
    "- batch deployment or offline deployment - Not realtime \n",
    "- Online deployment -  the model is always running\n",
    "  - Web service\n",
    "  - Streaming\n",
    "\n",
    "\n",
    "## Batch mode\n",
    "Every X time - regularly\n",
    "Used often for marketing related tasks\n",
    "\n",
    "Churn - stop to use a service for another one.\n",
    "Batch mode is used to understand which user is going to churn. Based on this predictions adhoc marketing is launched.\n",
    "\n",
    "## Web service\n",
    "I.E: Ride prediction service\n",
    "\n",
    "## Streaming\n",
    "\n",
    "See also my GIST:\n",
    "    https://gist.github.com/zioalex/c846d1fff9694f85839485dcc0f68ddc"
   ]
  }
 ],
 "metadata": {
  "language_info": {
   "name": "python"
  },
  "orig_nbformat": 4
 },
 "nbformat": 4,
 "nbformat_minor": 2
}
